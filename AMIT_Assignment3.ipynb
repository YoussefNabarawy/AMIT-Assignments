{
  "nbformat": 4,
  "nbformat_minor": 0,
  "metadata": {
    "colab": {
      "provenance": []
    },
    "kernelspec": {
      "name": "python3",
      "display_name": "Python 3"
    },
    "language_info": {
      "name": "python"
    }
  },
  "cells": [
    {
      "cell_type": "code",
      "execution_count": 6,
      "metadata": {
        "colab": {
          "base_uri": "https://localhost:8080/"
        },
        "id": "sC8As9l5sgse",
        "outputId": "d25290f3-89dc-4aae-d4b7-12974691c6e2"
      },
      "outputs": [
        {
          "output_type": "stream",
          "name": "stdout",
          "text": [
            "55\n"
          ]
        }
      ],
      "source": [
        "def fibonacci(n):\n",
        "    if n < 0:\n",
        "        raise ValueError(\"n must be non-negative\")\n",
        "    elif n == 0 or n == 1:\n",
        "        return n\n",
        "    else:\n",
        "        fib_numbers = [0, 1]\n",
        "        for i in range(2, n+1):\n",
        "            fib_numbers.append(fib_numbers[i-1] + fib_numbers[i-2])\n",
        "        return fib_numbers[n]\n",
        "\n",
        "n = 10\n",
        "print(fibonacci(n))"
      ]
    },
    {
      "cell_type": "code",
      "source": [
        "def count_unique_words(strings):\n",
        "    word_count = {}\n",
        "    for string in strings:\n",
        "        for word in string.split():\n",
        "            word_count[word] = word_count.get(word, 0) + 1\n",
        "    return word_count\n",
        "\n",
        "strings = [\"hello world\", \"hello python\", \"world python\"]\n",
        "print(count_unique_words(strings))"
      ],
      "metadata": {
        "colab": {
          "base_uri": "https://localhost:8080/"
        },
        "id": "O_pZPXqnssST",
        "outputId": "1e27f30f-bbe0-44b3-fe2c-6058757beaa4"
      },
      "execution_count": 9,
      "outputs": [
        {
          "output_type": "stream",
          "name": "stdout",
          "text": [
            "{'hello': 2, 'world': 2, 'python': 2}\n"
          ]
        }
      ]
    },
    {
      "cell_type": "code",
      "source": [
        "def find_pairs_with_sum(nums, target):\n",
        "    seen = set()\n",
        "    for num in nums:\n",
        "        complement = target - num\n",
        "        if complement in seen:\n",
        "            yield (complement, num)\n",
        "        seen.add(num)\n",
        "\n",
        "nums = [2, 7, 11, 15]\n",
        "target = 9\n",
        "for pair in find_pairs_with_sum(nums, target):\n",
        "    print(pair)"
      ],
      "metadata": {
        "colab": {
          "base_uri": "https://localhost:8080/"
        },
        "id": "epXiO8HntWU8",
        "outputId": "b4848ed8-0b67-4267-996a-cd2ba78cb0d4"
      },
      "execution_count": 11,
      "outputs": [
        {
          "output_type": "stream",
          "name": "stdout",
          "text": [
            "(2, 7)\n"
          ]
        }
      ]
    },
    {
      "cell_type": "code",
      "source": [
        "def find_max_product_pair(nums):\n",
        "    if len(nums) < 2:\n",
        "        raise ValueError(\"List must contain at least two numbers\")\n",
        "\n",
        "    nums.sort()\n",
        "    return max(nums[-1] * nums[-2], nums[0] * nums[1])\n",
        "\n",
        "nums = [1, 2, 3, 4, 5]\n",
        "print(find_max_product_pair(nums))"
      ],
      "metadata": {
        "colab": {
          "base_uri": "https://localhost:8080/"
        },
        "id": "NThAlR5Mts9h",
        "outputId": "e9c3fa92-6ba1-41d9-84b1-9a568a6fc69d"
      },
      "execution_count": 13,
      "outputs": [
        {
          "output_type": "stream",
          "name": "stdout",
          "text": [
            "20\n"
          ]
        }
      ]
    },
    {
      "cell_type": "code",
      "source": [
        "def is_prime(n):\n",
        "    if n <= 1:\n",
        "        return False\n",
        "    if n <= 3:\n",
        "        return True\n",
        "    if n % 2 == 0 or n % 3 == 0:\n",
        "        return False\n",
        "    i = 5\n",
        "    while i * i <= n:\n",
        "        if n % i == 0 or n % (i + 2) == 0:\n",
        "            return False\n",
        "        i += 6\n",
        "    return True\n",
        "\n",
        "n = 17\n",
        "print(is_prime(n))"
      ],
      "metadata": {
        "colab": {
          "base_uri": "https://localhost:8080/"
        },
        "id": "Tnns-OeOt664",
        "outputId": "28a0b42a-94da-41ab-bd1e-cedc985d39d8"
      },
      "execution_count": 16,
      "outputs": [
        {
          "output_type": "stream",
          "name": "stdout",
          "text": [
            "True\n"
          ]
        }
      ]
    },
    {
      "cell_type": "code",
      "source": [
        "def print_even_numbers(nums):\n",
        "    for num in nums:\n",
        "        if num % 2 == 0:\n",
        "            print(num)\n",
        "\n",
        "nums = [1, 2, 3, 4, 5, 6]\n",
        "print_even_numbers(nums)"
      ],
      "metadata": {
        "colab": {
          "base_uri": "https://localhost:8080/"
        },
        "id": "ubFBMnESt90m",
        "outputId": "3341b18f-7964-46d4-9f88-74c7b5dccec5"
      },
      "execution_count": 18,
      "outputs": [
        {
          "output_type": "stream",
          "name": "stdout",
          "text": [
            "2\n",
            "4\n",
            "6\n"
          ]
        }
      ]
    },
    {
      "cell_type": "code",
      "source": [
        "def reverse_word_order(string):\n",
        "    words = string.split()\n",
        "    reversed_words = words[::-1]\n",
        "    return \" \".join(reversed_words)\n",
        "\n",
        "string = \"hello world\"\n",
        "print(reverse_word_order(string))"
      ],
      "metadata": {
        "colab": {
          "base_uri": "https://localhost:8080/"
        },
        "id": "Fp8gFE-RuM6D",
        "outputId": "86eb4fe4-e3e9-4c6b-b340-9f14202964ce"
      },
      "execution_count": 19,
      "outputs": [
        {
          "output_type": "stream",
          "name": "stdout",
          "text": [
            "world hello\n"
          ]
        }
      ]
    },
    {
      "cell_type": "code",
      "source": [
        "def is_palindrome(x):\n",
        "    if x < 0:\n",
        "        return False\n",
        "    reversed_x = int(str(x)[::-1])\n",
        "    return x == reversed_x\n",
        "\n",
        "x = 121\n",
        "print(is_palindrome(x))"
      ],
      "metadata": {
        "colab": {
          "base_uri": "https://localhost:8080/"
        },
        "id": "y1W3HP2wuXNo",
        "outputId": "8e006477-134e-4b32-fa62-ce1f00a2a12c"
      },
      "execution_count": 20,
      "outputs": [
        {
          "output_type": "stream",
          "name": "stdout",
          "text": [
            "True\n"
          ]
        }
      ]
    },
    {
      "cell_type": "code",
      "source": [
        "def is_palindrome_string(string):\n",
        "    return string == string[::-1]\n",
        "\n",
        "string = \"racecar\"\n",
        "print(is_palindrome_string(string))"
      ],
      "metadata": {
        "colab": {
          "base_uri": "https://localhost:8080/"
        },
        "id": "KHo461O3ugd9",
        "outputId": "7427d8ca-b0d7-4c39-af8d-a02dc169eb08"
      },
      "execution_count": 21,
      "outputs": [
        {
          "output_type": "stream",
          "name": "stdout",
          "text": [
            "True\n"
          ]
        }
      ]
    },
    {
      "cell_type": "code",
      "source": [
        "def create_squares_list(n):\n",
        "    return [i**2 for i in range(1, n+1)]\n",
        "\n",
        "n = 30\n",
        "print(create_squares_list(n))"
      ],
      "metadata": {
        "colab": {
          "base_uri": "https://localhost:8080/"
        },
        "id": "gr7xZH4zunNe",
        "outputId": "5bbab04c-dfef-4864-90fe-c034490883d2"
      },
      "execution_count": 23,
      "outputs": [
        {
          "output_type": "stream",
          "name": "stdout",
          "text": [
            "[1, 4, 9, 16, 25, 36, 49, 64, 81, 100, 121, 144, 169, 196, 225, 256, 289, 324, 361, 400, 441, 484, 529, 576, 625, 676, 729, 784, 841, 900]\n"
          ]
        }
      ]
    }
  ]
}