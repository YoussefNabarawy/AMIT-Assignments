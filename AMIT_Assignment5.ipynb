{
  "nbformat": 4,
  "nbformat_minor": 0,
  "metadata": {
    "colab": {
      "provenance": []
    },
    "kernelspec": {
      "name": "python3",
      "display_name": "Python 3"
    },
    "language_info": {
      "name": "python"
    }
  },
  "cells": [
    {
      "cell_type": "code",
      "source": [
        "class Calculator:\n",
        "    def __init__(self, num1, num2):\n",
        "        self.num1 = num1\n",
        "        self.num2 = num2\n",
        "\n",
        "    def add(self):\n",
        "        return self.num1 + self.num2\n",
        "\n",
        "    def subtract(self):\n",
        "        return self.num1 - self.num2\n",
        "\n",
        "    def multiply(self):\n",
        "        return self.num1 * self.num2\n",
        "\n",
        "    def divide(self):\n",
        "        if self.num2 == 0:\n",
        "            return \"Error: Division by zero\"\n",
        "        else:\n",
        "            return self.num1 / self.num2"
      ],
      "metadata": {
        "id": "Q05nCZ06RfMI"
      },
      "execution_count": 18,
      "outputs": []
    },
    {
      "cell_type": "code",
      "source": [
        "class Rectangle:\n",
        "    def __init__(self, length, width):\n",
        "        self.length = length\n",
        "        self.width = width\n",
        "\n",
        "    def Perimeter(self):\n",
        "        return 2 * (self.length + self.width)\n",
        "\n",
        "    def Area(self):\n",
        "        return self.length * self.width\n",
        "\n",
        "    def display(self):\n",
        "        print(f\"Length: {self.length}\")\n",
        "        print(f\"Width: {self.width}\")\n",
        "        print(f\"Perimeter: {self.Perimeter()}\")\n",
        "        print(f\"Area: {self.Area()}\")\n",
        "\n",
        "class Parallelepiped(Rectangle):\n",
        "    def __init__(self, length, width, height):\n",
        "        super().__init__(length, width)\n",
        "        self.height = height\n",
        "\n",
        "    def Volume(self):\n",
        "        return self.length * self.width * self.height"
      ],
      "metadata": {
        "id": "0uyf8UcoRh7y"
      },
      "execution_count": 19,
      "outputs": []
    },
    {
      "cell_type": "code",
      "source": [
        "class Person:\n",
        "    def __init__(self, name, age):\n",
        "        self.name = name\n",
        "        self.age = age\n",
        "\n",
        "    def display(self):\n",
        "        print(f\"Name: {self.name}\")\n",
        "        print(f\"Age: {self.age}\")\n",
        "\n",
        "class Student(Person):\n",
        "    def __init__(self, name, age, section):\n",
        "        super().__init__(name, age)\n",
        "        self.section = section\n",
        "\n",
        "    def displayStudent(self):\n",
        "        print(f\"Name: {self.name}\")\n",
        "        print(f\"Age: {self.age}\")\n",
        "        print(f\"Section: {self.section}\")"
      ],
      "metadata": {
        "id": "3eYb9hroRia6"
      },
      "execution_count": 20,
      "outputs": []
    }
  ]
}