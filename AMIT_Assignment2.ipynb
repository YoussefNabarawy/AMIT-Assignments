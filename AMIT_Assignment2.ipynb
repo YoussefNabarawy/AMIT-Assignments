{
  "nbformat": 4,
  "nbformat_minor": 0,
  "metadata": {
    "colab": {
      "provenance": []
    },
    "kernelspec": {
      "name": "python3",
      "display_name": "Python 3"
    },
    "language_info": {
      "name": "python"
    }
  },
  "cells": [
    {
      "cell_type": "code",
      "execution_count": 1,
      "metadata": {
        "colab": {
          "base_uri": "https://localhost:8080/"
        },
        "id": "U9HKUyPVWNVW",
        "outputId": "ed0de204-cd6e-45e4-ede3-42d89829ca93"
      },
      "outputs": [
        {
          "output_type": "stream",
          "name": "stdout",
          "text": [
            "3\n"
          ]
        }
      ],
      "source": [
        "my_tuple = (1, 2, 3, 4, 5)\n",
        "print(my_tuple[2])"
      ]
    },
    {
      "cell_type": "code",
      "source": [
        "my_tuple = (10, 20, 30)\n",
        "a, b, c = my_tuple\n",
        "print(a)\n",
        "print(b)\n",
        "print(c)"
      ],
      "metadata": {
        "colab": {
          "base_uri": "https://localhost:8080/"
        },
        "id": "G5SASCktWwy_",
        "outputId": "506d46f3-2b23-4e8f-a2da-0b10a2c30bb8"
      },
      "execution_count": 2,
      "outputs": [
        {
          "output_type": "stream",
          "name": "stdout",
          "text": [
            "10\n",
            "20\n",
            "30\n"
          ]
        }
      ]
    },
    {
      "cell_type": "code",
      "source": [
        "my_tuple = (1, 2, 3, 4)\n",
        "new_tuple = my_tuple[:2] + (5,) + my_tuple[2:]\n",
        "print(new_tuple)"
      ],
      "metadata": {
        "colab": {
          "base_uri": "https://localhost:8080/"
        },
        "id": "CzblH87-W1t-",
        "outputId": "331f1ccc-b6f7-4a3b-ee6b-727ea95b74b3"
      },
      "execution_count": 3,
      "outputs": [
        {
          "output_type": "stream",
          "name": "stdout",
          "text": [
            "(1, 2, 5, 3, 4)\n"
          ]
        }
      ]
    },
    {
      "cell_type": "code",
      "source": [
        "my_tuple = ('e', 'x', 'e', 'r', 'c', 'i', 's', 'e', 's')\n",
        "my_string = ''.join(my_tuple)\n",
        "print(my_string)"
      ],
      "metadata": {
        "colab": {
          "base_uri": "https://localhost:8080/"
        },
        "id": "M3M9-UTVW5Zs",
        "outputId": "e596bcd2-41d3-4805-9942-fd775159098d"
      },
      "execution_count": 4,
      "outputs": [
        {
          "output_type": "stream",
          "name": "stdout",
          "text": [
            "exercises\n"
          ]
        }
      ]
    },
    {
      "cell_type": "code",
      "source": [
        "my_tuple = (1, 2, 3, 2, 1, 4, 5, 1)\n",
        "repeated_items = set([item for item in my_tuple if my_tuple.count(item) > 1])\n",
        "print(repeated_items)"
      ],
      "metadata": {
        "colab": {
          "base_uri": "https://localhost:8080/"
        },
        "id": "M9H5szK6XA2h",
        "outputId": "5dc4809a-cbbe-495c-edcb-0ae254c2b2a2"
      },
      "execution_count": 5,
      "outputs": [
        {
          "output_type": "stream",
          "name": "stdout",
          "text": [
            "{1, 2}\n"
          ]
        }
      ]
    },
    {
      "cell_type": "code",
      "source": [
        "my_tuple = (1, 2, 3, 4, 5)\n",
        "index_to_remove = 2\n",
        "new_tuple = my_tuple[:index_to_remove] + my_tuple[index_to_remove+1:]\n",
        "print(new_tuple)"
      ],
      "metadata": {
        "colab": {
          "base_uri": "https://localhost:8080/"
        },
        "id": "gB1BTHRJXFY2",
        "outputId": "95f28b78-a223-469a-9e77-7e625f7510a7"
      },
      "execution_count": 7,
      "outputs": [
        {
          "output_type": "stream",
          "name": "stdout",
          "text": [
            "(1, 2, 4, 5)\n"
          ]
        }
      ]
    },
    {
      "cell_type": "code",
      "source": [
        "my_tuple = (1, 2, 3, 4, 5)\n",
        "reversed_tuple = my_tuple[::-1]\n",
        "print(reversed_tuple)"
      ],
      "metadata": {
        "colab": {
          "base_uri": "https://localhost:8080/"
        },
        "id": "n3Q52wcZXHea",
        "outputId": "c7398d87-98fa-4c1c-bf2c-bf2b7cd67c32"
      },
      "execution_count": 8,
      "outputs": [
        {
          "output_type": "stream",
          "name": "stdout",
          "text": [
            "(5, 4, 3, 2, 1)\n"
          ]
        }
      ]
    },
    {
      "cell_type": "code",
      "source": [
        "my_list = [(1, 2, 3), (4, 5, 6), (7, 8, 9)]\n",
        "new_list = [(tuple[:2] + (10,)) for tuple in my_list]\n",
        "print(new_list)"
      ],
      "metadata": {
        "colab": {
          "base_uri": "https://localhost:8080/"
        },
        "id": "5dnA4bfBXRFW",
        "outputId": "c5f83701-aad8-4575-8d02-1c707a6e3f08"
      },
      "execution_count": 9,
      "outputs": [
        {
          "output_type": "stream",
          "name": "stdout",
          "text": [
            "[(1, 2, 10), (4, 5, 10), (7, 8, 10)]\n"
          ]
        }
      ]
    },
    {
      "cell_type": "code",
      "source": [
        "fruits = [\"apple\", \"banana\", \"orange\"]\n",
        "fruits.append(\"grape\")"
      ],
      "metadata": {
        "id": "wdxDyzpyXhz5"
      },
      "execution_count": 10,
      "outputs": []
    },
    {
      "cell_type": "code",
      "source": [
        "numbers1 = [1, 2, 3]\n",
        "numbers2 = [4, 5, 6]\n",
        "numbers1.extend(numbers2)"
      ],
      "metadata": {
        "id": "l-3tbWGVXl1_"
      },
      "execution_count": 11,
      "outputs": []
    },
    {
      "cell_type": "code",
      "source": [
        "colors = [\"red\", \"blue\", \"green\"]\n",
        "colors.insert(1, \"yellow\")"
      ],
      "metadata": {
        "id": "x4JS_lbkXn_h"
      },
      "execution_count": 12,
      "outputs": []
    },
    {
      "cell_type": "code",
      "source": [
        "cities = [\"Paris\", \"London\", \"New York\", \"Paris\"]\n",
        "cities.remove(\"Paris\")"
      ],
      "metadata": {
        "id": "tDYYiCX3Xojz"
      },
      "execution_count": 13,
      "outputs": []
    },
    {
      "cell_type": "code",
      "source": [
        "animals = [\"dog\", \"cat\", \"bird\", \"fish\"]\n",
        "removed_animal = animals.pop(2)"
      ],
      "metadata": {
        "id": "n9KgzS9iXrU8"
      },
      "execution_count": 14,
      "outputs": []
    },
    {
      "cell_type": "code",
      "source": [
        "random_numbers = [10, 20, 30, 40]\n",
        "random_numbers.clear()"
      ],
      "metadata": {
        "id": "hbsJftFfXt18"
      },
      "execution_count": 15,
      "outputs": []
    },
    {
      "cell_type": "code",
      "source": [
        "capitals = {\"USA\": \"Washington D.C.\", \"France\": \"Paris\", \"Germany\": \"Berlin\"}\n",
        "capital_of_france = capitals.get(\"France\", \"Not Found\")\n",
        "print(capital_of_france)"
      ],
      "metadata": {
        "colab": {
          "base_uri": "https://localhost:8080/"
        },
        "id": "j_NmeoINX0zd",
        "outputId": "249513c0-f4d0-43da-db93-4520035fbd81"
      },
      "execution_count": 16,
      "outputs": [
        {
          "output_type": "stream",
          "name": "stdout",
          "text": [
            "Paris\n"
          ]
        }
      ]
    },
    {
      "cell_type": "code",
      "source": [
        "languages = {\"Python\": [\"Django\", \"Flask\"], \"JavaScript\": [\"React\", \"Vue\", \"Angular\"]}\n",
        "language_list = list(languages.keys())\n",
        "print(language_list)"
      ],
      "metadata": {
        "colab": {
          "base_uri": "https://localhost:8080/"
        },
        "id": "gS8kgw4DX2V4",
        "outputId": "5501989d-13c0-4eb3-fae6-f4f731d674dc"
      },
      "execution_count": 17,
      "outputs": [
        {
          "output_type": "stream",
          "name": "stdout",
          "text": [
            "['Python', 'JavaScript']\n"
          ]
        }
      ]
    },
    {
      "cell_type": "code",
      "source": [
        "frameworks_list = list(languages.values())\n",
        "print(frameworks_list)"
      ],
      "metadata": {
        "colab": {
          "base_uri": "https://localhost:8080/"
        },
        "id": "YGSEkhk8X3x0",
        "outputId": "ec6a3d96-176b-4f78-d97e-56ac8b0777e2"
      },
      "execution_count": 19,
      "outputs": [
        {
          "output_type": "stream",
          "name": "stdout",
          "text": [
            "[['Django', 'Flask'], ['React', 'Vue', 'Angular']]\n"
          ]
        }
      ]
    },
    {
      "cell_type": "code",
      "source": [
        "items = {\"apple\": 2, \"banana\": 1.5, \"orange\": 3}\n",
        "items_list = list(items.items())\n",
        "print(items_list)"
      ],
      "metadata": {
        "colab": {
          "base_uri": "https://localhost:8080/"
        },
        "id": "auDg6Ng1X5m6",
        "outputId": "e32e44da-31d2-4546-fbc7-a4fd110101a1"
      },
      "execution_count": 20,
      "outputs": [
        {
          "output_type": "stream",
          "name": "stdout",
          "text": [
            "[('apple', 2), ('banana', 1.5), ('orange', 3)]\n"
          ]
        }
      ]
    },
    {
      "cell_type": "code",
      "source": [
        "student_scores = {\"Alice\": 90, \"Bob\": 85}\n",
        "more_scores = {\"Charlie\": 95, \"David\": 88}\n",
        "student_scores.update(more_scores)\n",
        "print(student_scores)"
      ],
      "metadata": {
        "colab": {
          "base_uri": "https://localhost:8080/"
        },
        "id": "-sQCpaiEX6hf",
        "outputId": "82dd7067-4021-4390-9037-026d8bd52b63"
      },
      "execution_count": 21,
      "outputs": [
        {
          "output_type": "stream",
          "name": "stdout",
          "text": [
            "{'Alice': 90, 'Bob': 85, 'Charlie': 95, 'David': 88}\n"
          ]
        }
      ]
    },
    {
      "cell_type": "code",
      "source": [
        "students = {\"Alice\": 25, \"Bob\": 22, \"Charlie\": 28}\n",
        "popped_student = students.pop(\"Bob\")\n",
        "print(popped_student)\n",
        "print(students)"
      ],
      "metadata": {
        "colab": {
          "base_uri": "https://localhost:8080/"
        },
        "id": "IorvMIoRX9vt",
        "outputId": "e488d2b1-b044-41de-f763-f89713042373"
      },
      "execution_count": 22,
      "outputs": [
        {
          "output_type": "stream",
          "name": "stdout",
          "text": [
            "22\n",
            "{'Alice': 25, 'Charlie': 28}\n"
          ]
        }
      ]
    },
    {
      "cell_type": "code",
      "source": [
        "colors = {\"red\": 1, \"green\": 2, \"blue\": 3}\n",
        "colors.clear()\n",
        "print(colors)"
      ],
      "metadata": {
        "colab": {
          "base_uri": "https://localhost:8080/"
        },
        "id": "whlsN3_iYAOI",
        "outputId": "085b1a66-4959-4a91-cf5b-b29cc03753ca"
      },
      "execution_count": 23,
      "outputs": [
        {
          "output_type": "stream",
          "name": "stdout",
          "text": [
            "{}\n"
          ]
        }
      ]
    }
  ]
}