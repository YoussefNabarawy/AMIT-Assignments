{
  "nbformat": 4,
  "nbformat_minor": 0,
  "metadata": {
    "colab": {
      "provenance": []
    },
    "kernelspec": {
      "name": "python3",
      "display_name": "Python 3"
    },
    "language_info": {
      "name": "python"
    }
  },
  "cells": [
    {
      "cell_type": "code",
      "execution_count": 1,
      "metadata": {
        "id": "hUg1V6IBQXV_"
      },
      "outputs": [],
      "source": [
        "import numpy as np"
      ]
    },
    {
      "cell_type": "code",
      "source": [
        "def all_non_zero(arr):\n",
        "    return np.all(arr != 0)"
      ],
      "metadata": {
        "id": "CAX95jL_QhCc"
      },
      "execution_count": 2,
      "outputs": []
    },
    {
      "cell_type": "code",
      "source": [
        "def any_non_zero(arr):\n",
        "    return np.any(arr != 0)"
      ],
      "metadata": {
        "id": "ypUqxLINQjm1"
      },
      "execution_count": 3,
      "outputs": []
    },
    {
      "cell_type": "code",
      "source": [
        "def compare_arrays(arr1, arr2, tolerance=1e-6):\n",
        "    equal = arr1 == arr2\n",
        "    equal_within_tolerance = np.isclose(arr1, arr2, rtol=tolerance)\n",
        "    return equal, equal_within_tolerance"
      ],
      "metadata": {
        "id": "36GFxvr2Qlga"
      },
      "execution_count": 4,
      "outputs": []
    },
    {
      "cell_type": "code",
      "source": [
        "arr = np.concatenate((np.zeros(10), np.ones(10), np.full(10, 5)))"
      ],
      "metadata": {
        "id": "zW1RMaskQngh"
      },
      "execution_count": 5,
      "outputs": []
    },
    {
      "cell_type": "code",
      "source": [
        "arr = np.arange(30, 71)"
      ],
      "metadata": {
        "id": "UciyzL3HQonc"
      },
      "execution_count": 6,
      "outputs": []
    },
    {
      "cell_type": "code",
      "source": [
        "arr = np.eye(3)"
      ],
      "metadata": {
        "id": "7ryixlzPQp0c"
      },
      "execution_count": 7,
      "outputs": []
    },
    {
      "cell_type": "code",
      "source": [
        "random_number = np.random.rand()"
      ],
      "metadata": {
        "id": "pLAL8M-iQrUg"
      },
      "execution_count": 8,
      "outputs": []
    },
    {
      "cell_type": "code",
      "source": [
        "arr = np.random.randn(15)"
      ],
      "metadata": {
        "id": "A7WWoZLRQtEy"
      },
      "execution_count": 9,
      "outputs": []
    },
    {
      "cell_type": "code",
      "source": [
        "arr = np.arange(15, 56)\n",
        "print(arr[1:-1])"
      ],
      "metadata": {
        "colab": {
          "base_uri": "https://localhost:8080/"
        },
        "id": "IxBu_uqmQued",
        "outputId": "e3c1262b-6903-468f-bc11-abc18d80df21"
      },
      "execution_count": 10,
      "outputs": [
        {
          "output_type": "stream",
          "name": "stdout",
          "text": [
            "[16 17 18 19 20 21 22 23 24 25 26 27 28 29 30 31 32 33 34 35 36 37 38 39\n",
            " 40 41 42 43 44 45 46 47 48 49 50 51 52 53 54]\n"
          ]
        }
      ]
    },
    {
      "cell_type": "code",
      "source": [
        "arr = np.random.randint(0, 11, size=5)"
      ],
      "metadata": {
        "id": "eOks8k-hQv9v"
      },
      "execution_count": 11,
      "outputs": []
    },
    {
      "cell_type": "code",
      "source": [
        "arr = np.ones((10, 10))\n",
        "arr[1:-1, 1:-1] = 0"
      ],
      "metadata": {
        "id": "_klDukB5Qxdg"
      },
      "execution_count": 12,
      "outputs": []
    },
    {
      "cell_type": "code",
      "source": [
        "arr = np.zeros((5, 5))\n",
        "np.fill_diagonal(arr, np.arange(1, 6))"
      ],
      "metadata": {
        "id": "NOAnwRIiQy3A"
      },
      "execution_count": 13,
      "outputs": []
    },
    {
      "cell_type": "code",
      "source": [
        "arr = np.zeros((4, 4))\n",
        "arr[1::2, ::2] = 1\n",
        "arr[::2, 1::2] = 1"
      ],
      "metadata": {
        "id": "mpdnM02eQ0qn"
      },
      "execution_count": 14,
      "outputs": []
    },
    {
      "cell_type": "code",
      "source": [
        "arr1 = np.array([1, 2, 3])\n",
        "arr2 = np.array([4, 5, 6])\n",
        "np.savez('arrays.npz', arr1=arr1, arr2=arr2)\n",
        "loaded_data = np.load('arrays.npz')\n",
        "arr1_loaded = loaded_data['arr1']\n",
        "arr2_loaded = loaded_data['arr2']"
      ],
      "metadata": {
        "id": "_wkCGYXOQ2Fs"
      },
      "execution_count": 15,
      "outputs": []
    },
    {
      "cell_type": "code",
      "source": [
        "arr = np.random.rand(40)\n",
        "selected_values = arr[arr > 0.5]"
      ],
      "metadata": {
        "id": "_kivy5yFQ4AQ"
      },
      "execution_count": 16,
      "outputs": []
    },
    {
      "cell_type": "code",
      "source": [
        "arr = np.array([1, 2, 3, 4, 5, 6, 7, 8, 9])\n",
        "threshold = 5\n",
        "less_than = arr[arr < threshold]\n",
        "greater_than = arr[arr > threshold]"
      ],
      "metadata": {
        "id": "55rewshsQ5l_"
      },
      "execution_count": 17,
      "outputs": []
    }
  ]
}